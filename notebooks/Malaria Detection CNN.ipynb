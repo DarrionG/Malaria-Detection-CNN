{
 "cells": [
  {
   "cell_type": "markdown",
   "id": "bd2ba493",
   "metadata": {},
   "source": [
    "# Malaria Detection"
   ]
  },
  {
   "cell_type": "markdown",
   "id": "1160df9f",
   "metadata": {},
   "source": [
    "## Problem Summary\n",
    "\n",
    "**The context:** Malaria is a life-threatening disease caused by Plasmodium parasites, transmitted through the bites of infected female Anopheles mosquitoes. It remains prevalent in tropical and subtropical regions, leading to over 500,000 deaths in 2023 alone, with 76% of these fatalities occurring in children under five. While malaria is not directly contagious between individuals, it can spread through blood transfusions or contaminated needles.\n",
    "\n",
    "Early detection is crucial, as malaria is curable if treated promptly. However, without timely intervention, it can become fatal within 24 hours. Symptoms range from mild—such as fever, chills, and headaches—to severe manifestations like extreme fatigue, confusion, seizures, and respiratory distress.\n",
    "<br>\n",
    "**The objectives:** Given the urgency of early diagnosis, this deep learning project aims to develop an efficient and accurate model to identify malaria-infected cells, ultimately supporting faster detection and improving patient outcomes.<br>\n",
    "**The key questions:**\n",
    "\n",
    "- Is the data for infected and uninfected cells balanced?\n",
    "\n",
    "- Which deep learning architecture will be most appropriate for handling classification?\n",
    "\n",
    "- How will overfitting be handled?\n",
    "\n",
    "- What performance level should be prioritized?\n",
    "\n",
    "- What is an appropriate measure of performance level for a medical diagnosis?\n",
    "\n",
    "**The problem formulation:** Develop a deep learning-based image classification system that can accurately and efficiently identify malaria-infected cells from microscopic images, while ensuring the model is interpretable, unbiased, and scalable for real-world medical applications.\n",
    "\n",
    "## Data Description\n",
    "\n",
    "There are a total of 24,958 train and 2,600 test images (colored) that we have taken from microscopic images. These images are of the following categories:<br>\n",
    "\n",
    "\n",
    "**Parasitized:** The parasitized cells contain the Plasmodium parasite which causes malaria<br>\n",
    "**Uninfected:** The uninfected cells are free of the Plasmodium parasites<br>"
   ]
  },
  {
   "cell_type": "markdown",
   "id": "44c21483",
   "metadata": {},
   "source": [
    "## Import Libraries"
   ]
  },
  {
   "cell_type": "code",
   "execution_count": 2,
   "id": "c47f4913",
   "metadata": {
    "scrolled": true
   },
   "outputs": [
    {
     "name": "stdout",
     "output_type": "stream",
     "text": [
      "Defaulting to user installation because normal site-packages is not writeable\n",
      "Note: you may need to restart the kernel to use updated packages.\n"
     ]
    },
    {
     "name": "stderr",
     "output_type": "stream",
     "text": [
      "ERROR: Could not find a version that satisfies the requirement cv2 (from versions: none)\n",
      "ERROR: No matching distribution found for cv2\n"
     ]
    },
    {
     "ename": "ModuleNotFoundError",
     "evalue": "No module named 'cv2'",
     "output_type": "error",
     "traceback": [
      "\u001b[1;31m---------------------------------------------------------------------------\u001b[0m",
      "\u001b[1;31mModuleNotFoundError\u001b[0m                       Traceback (most recent call last)",
      "\u001b[1;32m~\\AppData\\Local\\Temp\\ipykernel_23556\\2845817594.py\u001b[0m in \u001b[0;36m<cell line: 0>\u001b[1;34m()\u001b[0m\n\u001b[0;32m      4\u001b[0m \u001b[1;32mimport\u001b[0m \u001b[0mos\u001b[0m\u001b[1;33m\u001b[0m\u001b[1;33m\u001b[0m\u001b[0m\n\u001b[0;32m      5\u001b[0m \u001b[1;32mimport\u001b[0m \u001b[0mzipfile\u001b[0m\u001b[1;33m\u001b[0m\u001b[1;33m\u001b[0m\u001b[0m\n\u001b[1;32m----> 6\u001b[1;33m \u001b[1;32mimport\u001b[0m \u001b[0mcv2\u001b[0m\u001b[1;33m\u001b[0m\u001b[1;33m\u001b[0m\u001b[0m\n\u001b[0m\u001b[0;32m      7\u001b[0m \u001b[1;32mimport\u001b[0m \u001b[0mh5py\u001b[0m\u001b[1;33m\u001b[0m\u001b[1;33m\u001b[0m\u001b[0m\n\u001b[0;32m      8\u001b[0m \u001b[1;32mimport\u001b[0m \u001b[0mrandom\u001b[0m\u001b[1;33m\u001b[0m\u001b[1;33m\u001b[0m\u001b[0m\n",
      "\u001b[1;31mModuleNotFoundError\u001b[0m: No module named 'cv2'"
     ]
    }
   ],
   "source": [
    "# Transformation\n",
    "import numpy as np\n",
    "import os\n",
    "import zipfile\n",
    "import cv2\n",
    "import h5py\n",
    "import random"
   ]
  },
  {
   "cell_type": "code",
   "execution_count": 3,
   "id": "b169bc07",
   "metadata": {},
   "outputs": [],
   "source": [
    "# Visualization\n",
    "import matplotlib.pyplot as plt\n",
    "import seaborn as sns\n",
    "from sklearn.model_selection import train_test_split\n",
    "from sklearn.metrics import confusion_matrix, classification_report"
   ]
  },
  {
   "cell_type": "code",
   "execution_count": 4,
   "id": "566d6d96",
   "metadata": {},
   "outputs": [
    {
     "ename": "ModuleNotFoundError",
     "evalue": "No module named 'tensorflow'",
     "output_type": "error",
     "traceback": [
      "\u001b[1;31m---------------------------------------------------------------------------\u001b[0m",
      "\u001b[1;31mModuleNotFoundError\u001b[0m                       Traceback (most recent call last)",
      "\u001b[1;32m~\\AppData\\Local\\Temp\\ipykernel_23556\\1266759972.py\u001b[0m in \u001b[0;36m<cell line: 0>\u001b[1;34m()\u001b[0m\n\u001b[0;32m      1\u001b[0m \u001b[1;31m# Deep learning\u001b[0m\u001b[1;33m\u001b[0m\u001b[1;33m\u001b[0m\u001b[0m\n\u001b[1;32m----> 2\u001b[1;33m \u001b[1;32mimport\u001b[0m \u001b[0mtensorflow\u001b[0m \u001b[1;32mas\u001b[0m \u001b[0mtf\u001b[0m\u001b[1;33m\u001b[0m\u001b[1;33m\u001b[0m\u001b[0m\n\u001b[0m\u001b[0;32m      3\u001b[0m \u001b[1;32mfrom\u001b[0m \u001b[0mtensorflow\u001b[0m \u001b[1;32mimport\u001b[0m \u001b[0mkeras\u001b[0m\u001b[1;33m\u001b[0m\u001b[1;33m\u001b[0m\u001b[0m\n\u001b[0;32m      4\u001b[0m \u001b[1;32mfrom\u001b[0m \u001b[0mtensorflow\u001b[0m\u001b[1;33m.\u001b[0m\u001b[0mkeras\u001b[0m \u001b[1;32mimport\u001b[0m \u001b[0mlayers\u001b[0m\u001b[1;33m\u001b[0m\u001b[1;33m\u001b[0m\u001b[0m\n\u001b[0;32m      5\u001b[0m \u001b[1;32mfrom\u001b[0m \u001b[0mtensorflow\u001b[0m\u001b[1;33m.\u001b[0m\u001b[0mkeras\u001b[0m\u001b[1;33m.\u001b[0m\u001b[0mpreprocessing\u001b[0m\u001b[1;33m.\u001b[0m\u001b[0mimage\u001b[0m \u001b[1;32mimport\u001b[0m \u001b[0mImageDataGenerator\u001b[0m\u001b[1;33m\u001b[0m\u001b[1;33m\u001b[0m\u001b[0m\n",
      "\u001b[1;31mModuleNotFoundError\u001b[0m: No module named 'tensorflow'"
     ]
    }
   ],
   "source": [
    "# Deep learning\n",
    "import tensorflow as tf\n",
    "from tensorflow import keras\n",
    "from tensorflow.keras import layers\n",
    "from tensorflow.keras.preprocessing.image import ImageDataGenerator\n",
    "from tensorflow.keras.utils import to_categorical\n",
    "from tensorflow.keras.models import Sequential\n",
    "from tensorflow.keras.layers import Conv2D, MaxPooling2D, Flatten, Dense, Dropout, BatchNormalization, LeakyReLU\n",
    "from tensorflow.keras import backend\n",
    "from tensorflow.keras.callbacks import EarlyStopping, ModelCheckpoint"
   ]
  },
  {
   "cell_type": "markdown",
   "id": "86b7dcd9",
   "metadata": {},
   "source": [
    "## Import Data"
   ]
  },
  {
   "cell_type": "code",
   "execution_count": null,
   "id": "4ad6f13f",
   "metadata": {},
   "outputs": [],
   "source": [
    "# Define file path\n",
    "data = h5py.File('/content/drive/MyDrive/PythonCourse/Data/MalariaDetection/data.h5', 'r')\n",
    "\n",
    "# Read data\n",
    "with data as f:\n",
    "  train_data = np.array(f['train_data'])\n",
    "  train_label = np.array(f['train_label'])\n",
    "  test_data = np.array(f['test_data'])\n",
    "  test_label = np.array(f['test_label'])"
   ]
  },
  {
   "cell_type": "code",
   "execution_count": null,
   "id": "67fdc2d4",
   "metadata": {},
   "outputs": [],
   "source": [
    "# Check shape of the data\n",
    "train_data.shape, test_data.shape"
   ]
  },
  {
   "cell_type": "code",
   "execution_count": null,
   "id": "3118c2f3",
   "metadata": {},
   "outputs": [],
   "source": [
    "# Check shape of the labels\n",
    "train_label.shape, test_label.shape"
   ]
  },
  {
   "cell_type": "code",
   "execution_count": null,
   "id": "8638942a",
   "metadata": {},
   "outputs": [],
   "source": [
    "# Normalize the data\n",
    "train_data = train_data / 255.0\n",
    "test_data = test_data / 255.0"
   ]
  },
  {
   "cell_type": "markdown",
   "id": "a7e0b4d8",
   "metadata": {},
   "source": [
    "## Define Functions"
   ]
  },
  {
   "cell_type": "code",
   "execution_count": null,
   "id": "65f691e6",
   "metadata": {},
   "outputs": [],
   "source": [
    "# Function for plotting individual images\n",
    "def plot_image(data, num):\n",
    "\n",
    "  # Plot the first image\n",
    "  plt.imshow(data[num])\n",
    "\n",
    "  # Remove ticks\n",
    "  plt.xticks([])\n",
    "  plt.yticks([])\n",
    "\n",
    "  plt.show()"
   ]
  },
  {
   "cell_type": "code",
   "execution_count": null,
   "id": "0f19b8c6",
   "metadata": {},
   "outputs": [],
   "source": [
    "# Function for plotting an array of images\n",
    "def plot_image_arr(data, label, num):\n",
    "\n",
    "  # Define figure size\n",
    "  plt.figure(figsize=(num, num))\n",
    "\n",
    "  # Loop through n iterations\n",
    "  for i in range(num):\n",
    "\n",
    "    # Define subplots\n",
    "    plt.subplot(6, 6, i+1)\n",
    "\n",
    "    # Remove ticks\n",
    "    plt.xticks([])\n",
    "    plt.yticks([])\n",
    "\n",
    "    # Add y labels to plots\n",
    "    if label[i] == 0:\n",
    "      plt.ylabel('Uninfected')\n",
    "    else:\n",
    "      plt.ylabel('Parasitized')\n",
    "\n",
    "    # Plot images\n",
    "    plt.imshow(data[i])\n",
    "    plt.xlabel(label[i])\n",
    "\n",
    "    # Plot images\n",
    "    plt.imshow(data[i], cmap='binary')"
   ]
  },
  {
   "cell_type": "code",
   "execution_count": null,
   "id": "568e3e2d",
   "metadata": {},
   "outputs": [],
   "source": [
    "# Function for plotting model accuracy and confusion matrix\n",
    "def evaluate_model(history, model):\n",
    "  classes = ['uninfected', 'parasitized']\n",
    "  # Plot accuracy\n",
    "  plt.plot(history.history['recall'])\n",
    "  plt.plot(history.history['val_recall'])\n",
    "  plt.title('Model Performance')\n",
    "  plt.ylabel('Recall')\n",
    "  plt.xlabel('Epoch')\n",
    "  plt.legend(['Train', 'Validation'], loc='upper left')\n",
    "  plt.show()\n",
    "\n",
    "  # Plot confusion matrix\n",
    "  pred = model.predict(test_data)\n",
    "  pred = np.argmax(pred, axis=1)\n",
    "  y_true = np.argmax(test_label, axis=1)\n",
    "  cm = confusion_matrix(y_true, pred)\n",
    "  cm_labels = np.arange(2)\n",
    "  sns.heatmap(cm, annot=True, fmt='d', xticklabels=classes, yticklabels=classes)\n",
    "  plt.title('Confusion Matrix')\n",
    "  plt.xlabel('Predicted Label')\n",
    "  plt.ylabel('True Label')\n",
    "  plt.show()"
   ]
  },
  {
   "cell_type": "code",
   "execution_count": null,
   "id": "36cc1859",
   "metadata": {},
   "outputs": [],
   "source": [
    "# Function for converting RGB to HSV for images\n",
    "def rgb_to_hsv(data):\n",
    "  arr = []\n",
    "\n",
    "  for img in data:\n",
    "    img = (img * 255).astype(np.uint8)\n",
    "    img_hsv = cv2.cvtColor(img, cv2.COLOR_RGB2HSV)\n",
    "    arr.append(img_hsv)\n",
    "\n",
    "  # Convert to numpy array\n",
    "  arr = np.array(arr)\n",
    "\n",
    "  return arr"
   ]
  },
  {
   "cell_type": "code",
   "execution_count": null,
   "id": "1cac3578",
   "metadata": {},
   "outputs": [],
   "source": [
    "# Function to create blurred images\n",
    "def blur_image(data):\n",
    "  blur = cv2.GaussianBlur(data, (5, 5), 0)\n",
    "  return blur"
   ]
  },
  {
   "cell_type": "markdown",
   "id": "3edbb21b",
   "metadata": {},
   "source": [
    "## Exploritory Data Analysis"
   ]
  },
  {
   "cell_type": "markdown",
   "id": "d908ea3b",
   "metadata": {},
   "source": [
    "### Training Data"
   ]
  },
  {
   "cell_type": "code",
   "execution_count": null,
   "id": "4630cafd",
   "metadata": {},
   "outputs": [],
   "source": [
    "# Plot 1st image\n",
    "plot_image(train_data, 0)"
   ]
  },
  {
   "cell_type": "code",
   "execution_count": null,
   "id": "da5c0961",
   "metadata": {},
   "outputs": [],
   "source": [
    "# Plot array of first 12 images\n",
    "plot_image_arr(train_data, train_label, 12)"
   ]
  },
  {
   "cell_type": "markdown",
   "id": "f4715b38",
   "metadata": {},
   "source": [
    "**Observations:**"
   ]
  },
  {
   "cell_type": "markdown",
   "id": "ea5a4682",
   "metadata": {},
   "source": [
    "### Testing Data"
   ]
  },
  {
   "cell_type": "code",
   "execution_count": null,
   "id": "b7298369",
   "metadata": {},
   "outputs": [],
   "source": [
    "# Plot 1st image\n",
    "plot_image(test_data, 0)"
   ]
  },
  {
   "cell_type": "code",
   "execution_count": null,
   "id": "a8400a8a",
   "metadata": {},
   "outputs": [],
   "source": [
    "# Plot array of first 12 images\n",
    "plot_image_arr(test_data, test_label, 12)"
   ]
  },
  {
   "cell_type": "markdown",
   "id": "a27978db",
   "metadata": {},
   "source": [
    "**Observations:**"
   ]
  },
  {
   "cell_type": "markdown",
   "id": "02a599f7",
   "metadata": {},
   "source": [
    "### Check Balance of Data"
   ]
  },
  {
   "cell_type": "code",
   "execution_count": null,
   "id": "5ad2480c",
   "metadata": {},
   "outputs": [],
   "source": [
    "# Plot pie chart for both training and test data\n",
    "plt.pie(\n",
    "    [np.sum(train_label == 0), np.sum(train_label == 1)],\n",
    "    labels=['Uninfected', 'Parasitized'],\n",
    "    autopct='%1.1f%%'\n",
    ")\n",
    "\n",
    "plt.title('Pie Chart for Training Data')\n",
    "plt.show()\n",
    "\n",
    "plt.pie(\n",
    "    [np.sum(test_label == 0), np.sum(test_label == 1)],\n",
    "    labels=['Uninfected', 'Parasitized'],\n",
    "    autopct='%1.1f%%'\n",
    ")\n",
    "\n",
    "plt.title('Pie Chart for Test Data')\n",
    "plt.show()"
   ]
  },
  {
   "cell_type": "markdown",
   "id": "096c0025",
   "metadata": {},
   "source": [
    "## Data Transformation"
   ]
  },
  {
   "cell_type": "code",
   "execution_count": null,
   "id": "da146615",
   "metadata": {},
   "outputs": [],
   "source": [
    "# One hot encoding on train and test labels\n",
    "train_label = to_categorical(train_label)\n",
    "test_label = to_categorical(test_label)"
   ]
  },
  {
   "cell_type": "markdown",
   "id": "b81e7313",
   "metadata": {},
   "source": [
    "## Building the Model"
   ]
  },
  {
   "cell_type": "code",
   "execution_count": null,
   "id": "cdcd3cc7",
   "metadata": {},
   "outputs": [],
   "source": [
    "# Fix seed\n",
    "random.seed(13)\n",
    "np.random.seed(13)\n",
    "tf.random.set_seed(13)"
   ]
  },
  {
   "cell_type": "markdown",
   "id": "8a2f6b07",
   "metadata": {},
   "source": [
    "### Model 1"
   ]
  },
  {
   "cell_type": "code",
   "execution_count": null,
   "id": "18f095e7",
   "metadata": {},
   "outputs": [],
   "source": []
  }
 ],
 "metadata": {
  "kernelspec": {
   "display_name": "Python 3 (ipykernel)",
   "language": "python",
   "name": "python3"
  },
  "language_info": {
   "codemirror_mode": {
    "name": "ipython",
    "version": 3
   },
   "file_extension": ".py",
   "mimetype": "text/x-python",
   "name": "python",
   "nbconvert_exporter": "python",
   "pygments_lexer": "ipython3",
   "version": "3.11.8"
  }
 },
 "nbformat": 4,
 "nbformat_minor": 5
}
